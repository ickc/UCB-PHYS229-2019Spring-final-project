{
 "cells": [
  {
   "cell_type": "code",
   "execution_count": null,
   "metadata": {},
   "outputs": [],
   "source": [
    "from classy import Class"
   ]
  },
  {
   "cell_type": "code",
   "execution_count": null,
   "metadata": {},
   "outputs": [],
   "source": [
    "import os\n",
    "import io"
   ]
  },
  {
   "cell_type": "code",
   "execution_count": null,
   "metadata": {},
   "outputs": [],
   "source": [
    "import pandas as pd\n",
    "import numpy as np"
   ]
  },
  {
   "cell_type": "code",
   "execution_count": null,
   "metadata": {},
   "outputs": [],
   "source": [
    "import matplotlib.pyplot as plt"
   ]
  },
  {
   "cell_type": "code",
   "execution_count": null,
   "metadata": {},
   "outputs": [],
   "source": [
    "%matplotlib inline"
   ]
  },
  {
   "cell_type": "code",
   "execution_count": null,
   "metadata": {},
   "outputs": [],
   "source": [
    "def read_txt(path):\n",
    "    with open(path, 'r') as f:\n",
    "        # remove beginning `#`\n",
    "        text = f.read()[1:]\n",
    "    with io.StringIO(text) as f:\n",
    "        # input has 6 sig. fig. which fits in float32\n",
    "        return pd.read_csv(f, delim_whitespace=True, index_col=0, dtype=np.float32)"
   ]
  },
  {
   "cell_type": "code",
   "execution_count": null,
   "metadata": {},
   "outputs": [],
   "source": [
    "def read_class_txt(path, camb=False):\n",
    "    # read once\n",
    "    with open(path, 'r') as f:\n",
    "        text = f.read()\n",
    "\n",
    "    # get last comment line\n",
    "    comment = None\n",
    "    for line in text.split('\\n'):\n",
    "        if line.startswith('#'):\n",
    "            comment = line\n",
    "    # remove beginning '#'\n",
    "    comment = comment[1:]\n",
    "    # parse comment line: get name after ':'\n",
    "    names = [name.split(':')[1] for name in comment.strip().split()]\n",
    "\n",
    "    with io.StringIO(text) as f:\n",
    "        df = pd.read_csv(f, delim_whitespace=True, index_col=0, comment='#', header=None, names=names)\n",
    "        return df if camb else df * 1.e12"
   ]
  },
  {
   "cell_type": "code",
   "execution_count": null,
   "metadata": {},
   "outputs": [],
   "source": [
    "def plot_compare(df1, df2, keys, log=False, relative=False):\n",
    "    '''plot to compare columns from `df1` and `df2`,\n",
    "    using columns from `df1`.\n",
    "\n",
    "    `keys`: tuple of str of names of `df1` and `df2`.\n",
    "    `relative`: if True, plot the relative error w.r.t. `df1` instead.\n",
    "    '''\n",
    "    for col in df1.columns:\n",
    "#         pd.merge(df1[col], df2[col], left_index=True, right_index=True).plot()\n",
    "        df_temp = pd.concat((df1[col], df2[col]), axis=1, join='inner', keys=(' '.join((key, col)) for key in keys))\n",
    "        if relative:\n",
    "            temp = df_temp.values\n",
    "            if log:\n",
    "                plt.loglog(df_temp.index, np.abs((temp[:, 0] - temp[:, 1]) / temp[:, 0]), label=col)\n",
    "            else:\n",
    "                plt.plot(df_temp.index, np.abs((temp[:, 0] - temp[:, 1]) / temp[:, 0]), label=col)\n",
    "            plt.legend()\n",
    "            plt.show()\n",
    "        else:\n",
    "            if log:\n",
    "                df_temp.plot(logx=True, logy=True)\n",
    "            else:\n",
    "                df_temp.plot()"
   ]
  },
  {
   "cell_type": "code",
   "execution_count": null,
   "metadata": {},
   "outputs": [],
   "source": [
    "LambdaCDM = Class()"
   ]
  },
  {
   "cell_type": "code",
   "execution_count": null,
   "metadata": {
    "editable": true
   },
   "outputs": [],
   "source": [
    "# optional: clear content of LambdaCDM (to reuse it for another model)\n",
    "LambdaCDM.struct_cleanup()\n",
    "# optional: reset parameters to default\n",
    "LambdaCDM.empty()"
   ]
  },
  {
   "cell_type": "code",
   "execution_count": null,
   "metadata": {},
   "outputs": [],
   "source": [
    "kwargs = {\n",
    "    # background parameters\n",
    "    'H0': 67.32117,\n",
    "    'omega_b': 0.02238280,\n",
    "    'N_ur': 2.03066666667,\n",
    "    'omega_cdm': 0.1201075,\n",
    "    'N_ncdm': 1,\n",
    "    'omega_ncdm': 0.0006451439,\n",
    "\n",
    "    'YHe': 0.2454006,\n",
    "    'tau_reio': 0.05430842,\n",
    "\n",
    "    'n_s': 0.9660499,\n",
    "    'A_s': 2.100549e-09,\n",
    "\n",
    "    'non linear': 'halofit',\n",
    "\n",
    "    'output': 'tCl,pCl,lCl,mPk',\n",
    "    'lensing': 'yes',\n",
    "#     'P_k_max_1/Mpc': 3.,\n",
    "#     'l_max_scalars': 3000,\n",
    "}\n",
    "LambdaCDM.set(kwargs)"
   ]
  },
  {
   "cell_type": "code",
   "execution_count": null,
   "metadata": {},
   "outputs": [],
   "source": [
    "LambdaCDM.compute()"
   ]
  },
  {
   "cell_type": "code",
   "execution_count": null,
   "metadata": {},
   "outputs": [],
   "source": [
    "LambdaCDM.get_pk"
   ]
  },
  {
   "cell_type": "markdown",
   "metadata": {},
   "source": [
    "# Trials"
   ]
  },
  {
   "cell_type": "code",
   "execution_count": null,
   "metadata": {},
   "outputs": [],
   "source": [
    "%%time\n",
    "kk = np.logspace(-4,np.log10(3),1000) # k in h/Mpc\n",
    "Pk = [] # P(k) in (Mpc/h)**3\n",
    "h = LambdaCDM.h() # get reduced Hubble for conversions to 1/Mpc\n",
    "for k in kk:\n",
    "    Pk.append(LambdaCDM.pk(k*h,0.)*h**3) # function .pk(k,z)"
   ]
  },
  {
   "cell_type": "code",
   "execution_count": null,
   "metadata": {},
   "outputs": [],
   "source": [
    "# plot P(k)\n",
    "plt.figure(2)\n",
    "plt.xscale('log');plt.yscale('log');plt.xlim(kk[0],kk[-1])\n",
    "plt.xlabel(r'$k \\,\\,\\,\\, [h/\\mathrm{Mpc}]$')\n",
    "plt.ylabel(r'$P(k) \\,\\,\\,\\, [\\mathrm{Mpc}/h]^3$')\n",
    "plt.plot(kk,Pk,'b-')"
   ]
  },
  {
   "cell_type": "code",
   "execution_count": null,
   "metadata": {},
   "outputs": [],
   "source": [
    "kk = np.logspace(-4, np.log10(3), 1000) * LambdaCDM.h()"
   ]
  },
  {
   "cell_type": "code",
   "execution_count": null,
   "metadata": {},
   "outputs": [],
   "source": [
    "def pks(class_obj, ks, z):\n",
    "    return class_obj.get_pk(ks.reshape(-1, 1, 1), np.array([z]), ks.size, 1, 1).flatten()"
   ]
  },
  {
   "cell_type": "code",
   "execution_count": null,
   "metadata": {},
   "outputs": [],
   "source": [
    "%%time\n",
    "Pk = pks(LambdaCDM, kk, 0.)"
   ]
  },
  {
   "cell_type": "code",
   "execution_count": null,
   "metadata": {},
   "outputs": [],
   "source": [
    "# plot P(k)\n",
    "plt.figure(2)\n",
    "plt.xscale('log');plt.yscale('log');plt.xlim(kk[0],kk[-1])\n",
    "plt.xlabel(r'$k \\,\\,\\,\\, [h/\\mathrm{Mpc}]$')\n",
    "plt.ylabel(r'$P(k) \\,\\,\\,\\, [\\mathrm{Mpc}/h]^3$')\n",
    "plt.plot(kk,Pk,'b-')"
   ]
  }
 ],
 "metadata": {
  "kernelspec": {
   "display_name": "all3-intel",
   "language": "python",
   "name": "all3-intel"
  },
  "language_info": {
   "codemirror_mode": {
    "name": "ipython",
    "version": 3
   },
   "file_extension": ".py",
   "mimetype": "text/x-python",
   "name": "python",
   "nbconvert_exporter": "python",
   "pygments_lexer": "ipython3",
   "version": "3.6.5"
  }
 },
 "nbformat": 4,
 "nbformat_minor": 2
}
