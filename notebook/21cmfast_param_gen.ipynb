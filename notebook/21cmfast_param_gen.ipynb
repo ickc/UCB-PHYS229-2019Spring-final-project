{
 "cells": [
  {
   "cell_type": "code",
   "execution_count": null,
   "metadata": {},
   "outputs": [],
   "source": [
    "from functools import partial\n",
    "from pathlib import Path"
   ]
  },
  {
   "cell_type": "code",
   "execution_count": null,
   "metadata": {},
   "outputs": [],
   "source": [
    "import numpy as np"
   ]
  },
  {
   "cell_type": "code",
   "execution_count": null,
   "metadata": {},
   "outputs": [],
   "source": [
    "from dautil.IO import makedirs"
   ]
  },
  {
   "cell_type": "markdown",
   "metadata": {},
   "source": [
    "c.f. 21cmFAST 2018 paper, Table 1\n",
    "\n",
    "- STELLAR_BARYON_FRAC\n",
    "- STELLAR_BARYON_PL\n",
    "- ESC_FRAC\n",
    "- ESC_PL\n",
    "- M_TURNOVER\n",
    "- t_STAR\n",
    "- L_X\n",
    "\n",
    "Followings are first cleaned up using `gcc -fpreprocessed -dD -E -P`"
   ]
  },
  {
   "cell_type": "code",
   "execution_count": null,
   "metadata": {},
   "outputs": [],
   "source": [
    "ANAL_PARAMS_H = '''#ifndef _ANAL_PARAM_H_\n",
    "#define _ANAL_PARAM_H_ \n",
    "#define N_GAMMA_UV (float) (5000)\n",
    "#define STELLAR_BARYON_FRAC (double) ({STELLAR_BARYON_FRAC})\n",
    "#define STELLAR_BARYON_PL (double) ({STELLAR_BARYON_PL})\n",
    "#define ESC_FRAC (double) ({ESC_FRAC})\n",
    "#define ESC_PL (double) ({ESC_PL})\n",
    "#define M_TURNOVER (double) ({M_TURNOVER})\n",
    "#define INHOMO_RECO (int) (1)\n",
    "#define t_STAR (float) ({t_STAR})\n",
    "#define ALPHA_UVB (float) (5)\n",
    "#define SHARP_CUTOFF (int) (0)\n",
    "#define R_BUBBLE_MAX (float) (50)\n",
    "#define EVOLVE_DENSITY_LINEARLY (int) (0)\n",
    "#define SMOOTH_EVOLVED_DENSITY_FIELD (int) (1)\n",
    "#define R_smooth_density (float) (0.2)\n",
    "#define SECOND_ORDER_LPT_CORRECTIONS (int) (1)\n",
    "#define HII_ROUND_ERR (float) (1e-3)\n",
    "#define FIND_BUBBLE_ALGORITHM (int) (2)\n",
    "#define R_BUBBLE_MIN (float) (L_FACTOR*1)\n",
    "#define USE_HALO_FIELD (int) (0)\n",
    "#define N_POISSON (int) (5)\n",
    "#define T_USE_VELOCITIES (int) (1)\n",
    "#define MAX_DVDR (float) (0.2)\n",
    "#define VELOCITY_COMPONENT (int) (3)\n",
    "#define SUBCELL_RSD (int) (1)\n",
    "#define N_RSD_STEPS (int) (20)\n",
    "#define DIMENSIONAL_T_POWER_SPEC (int) (1)\n",
    "#define DELTA_R_FACTOR (float) (1.1)\n",
    "#define DELTA_R_HII_FACTOR (float) (1.1)\n",
    "#define R_OVERLAP_FACTOR (float) (1.0)\n",
    "#define DELTA_CRIT_MODE (int) (1)\n",
    "#define HALO_FILTER (int) (0)\n",
    "#define HII_FILTER (int) (1)\n",
    "#define OPTIMIZE (int) (0)\n",
    "#define OPTIMIZE_MIN_MASS (float) (1e11)\n",
    "#define SIZE_RANDOM_SEED (-23456789)\n",
    "#define LOS_RANDOM_SEED (-123456789)\n",
    "#define INITIAL_REDSHIFT (float) 300\n",
    "#define HII_EFF_FACTOR (float) ( N_GAMMA_UV * STELLAR_BARYON_FRAC * ESC_FRAC)\n",
    "#define L_FACTOR (float) (0.620350491)\n",
    "#define HII_D (unsigned long long) (HII_DIM)\n",
    "#define HII_MIDDLE (HII_DIM/2)\n",
    "#define HII_MID ((unsigned long long)HII_MIDDLE)\n",
    "#define HII_TOT_NUM_PIXELS (unsigned long long)(HII_D*HII_D*HII_D)\n",
    "#define HII_TOT_FFT_NUM_PIXELS ((unsigned long long)(HII_D*HII_D*2llu*(HII_MID+1llu)))\n",
    "#define HII_KSPACE_NUM_PIXELS ((unsigned long long)(HII_D*HII_D*(HII_MID+1llu)))\n",
    "#define HII_C_INDEX(x,y,z) ((unsigned long long)((z)+(HII_MID+1llu)*((y)+HII_D*(x))))\n",
    "#define HII_R_FFT_INDEX(x,y,z) ((unsigned long long)((z)+2llu*(HII_MID+1llu)*((y)+HII_D*(x))))\n",
    "#define HII_R_INDEX(x,y,z) ((unsigned long long)((z)+HII_D*((y)+HII_D*(x))))\n",
    "#endif\n",
    "'''"
   ]
  },
  {
   "cell_type": "code",
   "execution_count": null,
   "metadata": {},
   "outputs": [],
   "source": [
    "HEAT_PARAMS_H = '''#ifndef _HEAT_PARAMS_H_\n",
    "#define _HEAT_PARAMS_H_ \n",
    "#define USE_TS_IN_21CM (int) (1)\n",
    "#define L_X (double) ({L_X})\n",
    "#define NU_X_BAND_MAX (double) (2000*NU_over_EV)\n",
    "#define NU_X_THRESH (double) (500*NU_over_EV)\n",
    "#define X_RAY_SPEC_INDEX (double) (1.0)\n",
    "#define HEAT_FILTER (int) 0\n",
    "#define CLUMPING_FACTOR (double) (2)\n",
    "#define Z_HEAT_MAX (float) (30)\n",
    "#define R_XLy_MAX (float) (500)\n",
    "#define NUM_FILTER_STEPS_FOR_Ts (int) (40)\n",
    "#define ZPRIME_STEP_FACTOR (float) (1.02)\n",
    "#define TK_at_Z_HEAT_MAX (double) (-1)\n",
    "#define XION_at_Z_HEAT_MAX (double) (-1)\n",
    "#define Ts_verbose (int) (1)\n",
    "#define RECFAST_FILENAME (const char *) \"../External_tables/recfast_LCDM.dat\"\n",
    "#define STELLAR_SPECTRA_FILENAME (const char *) \"../External_tables/stellar_spectra.dat\"\n",
    "#define KAPPA_EH_FILENAME (const char *) \"../External_tables/kappa_eH_table.dat\"\n",
    "#define KAPPA_PH_FILENAME (const char *) \"../External_tables/kappa_pH_table.dat\"\n",
    "#define Pop (int) (2)\n",
    "#define Pop2_ion (float) (N_GAMMA_UV)\n",
    "#define Pop3_ion (float) (50000)\n",
    "#define DEBUG_ON (int) (0)\n",
    "#endif\n",
    "'''"
   ]
  },
  {
   "cell_type": "code",
   "execution_count": null,
   "metadata": {},
   "outputs": [],
   "source": [
    "# first value is default\n",
    "# rest are alternative value for each realization\n",
    "PARAMS = {\n",
    "    'STELLAR_BARYON_FRAC': (0.05, 0.001, 1.),\n",
    "    'STELLAR_BARYON_PL': (0.5, -0.5, 1.),\n",
    "    'ESC_FRAC': (0.01, 0.001, 1.),\n",
    "    'ESC_PL': (-0.5, -1., 0.5),\n",
    "    'M_TURNOVER': (5e8, 1e8, 1e10),\n",
    "    't_STAR': (0.5, 0., 1.),\n",
    "    'L_X': (40.5, 38., 42.)\n",
    "}"
   ]
  },
  {
   "cell_type": "code",
   "execution_count": null,
   "metadata": {},
   "outputs": [],
   "source": [
    "def get_param(params, idxs):\n",
    "    return {key: value[idx] for idx, (key, value) in zip(idxs, params.items())}"
   ]
  },
  {
   "cell_type": "code",
   "execution_count": null,
   "metadata": {},
   "outputs": [],
   "source": [
    "def gen_idxes(n=7, idxs=(1, 2)):\n",
    "    '''`n`: no. of levels\n",
    "\n",
    "    `idxs`: possible index values for alternative realization\n",
    "    '''\n",
    "\n",
    "    def gen_idxs(n, level, idx):\n",
    "        idxs = np.zeros(n, dtype=np.int32)\n",
    "        idxs[level] = idx\n",
    "        return idxs\n",
    "\n",
    "    # first one is all defaults\n",
    "    return [np.zeros(n, dtype=np.int32)] + [gen_idxs(n, level, idx) for level in range(n) for idx in idxs]"
   ]
  },
  {
   "cell_type": "code",
   "execution_count": null,
   "metadata": {},
   "outputs": [],
   "source": [
    "def gen_h_files(params):\n",
    "    # ANAL_PARAMS_H\n",
    "    anal_dict = {\n",
    "        key: params[key]\n",
    "        for key in ('STELLAR_BARYON_FRAC', 'STELLAR_BARYON_PL', 'ESC_FRAC', 'ESC_PL', 'M_TURNOVER', 't_STAR')\n",
    "    }\n",
    "    heat_dict = {'L_X': params['L_X']}\n",
    "    return ANAL_PARAMS_H.format(**anal_dict), HEAT_PARAMS_H.format(**heat_dict)"
   ]
  },
  {
   "cell_type": "code",
   "execution_count": null,
   "metadata": {},
   "outputs": [],
   "source": [
    "def gen_dirname(basedir, idxs, subdir='Parameter_files'):\n",
    "    return basedir / '_'.join(map(str, idxs)) / subdir"
   ]
  },
  {
   "cell_type": "code",
   "execution_count": null,
   "metadata": {},
   "outputs": [],
   "source": [
    "def main(basedir):\n",
    "    '''write header files for all realization parameters to `basedir`.\n",
    "    '''\n",
    "    idxes = gen_idxes()\n",
    "    for idxs in idxes:\n",
    "        dirname = gen_dirname(basedir, idxs)\n",
    "        params = get_param(PARAMS, idxs)\n",
    "        file_contents = gen_h_files(params)\n",
    "        makedirs(dirname)\n",
    "        for name, content in zip(('ANAL_PARAMS.H', 'HEAT_PARAMS.H'), file_contents):\n",
    "            with open(dirname / name, 'w') as f:\n",
    "                print(content, file=f)"
   ]
  },
  {
   "cell_type": "code",
   "execution_count": null,
   "metadata": {},
   "outputs": [],
   "source": [
    "basedir = Path('~/21cmfast/21cmFAST/Parameter_spaces').expanduser()"
   ]
  },
  {
   "cell_type": "code",
   "execution_count": null,
   "metadata": {},
   "outputs": [],
   "source": [
    "main(basedir)"
   ]
  },
  {
   "cell_type": "code",
   "execution_count": null,
   "metadata": {},
   "outputs": [],
   "source": [
    "idxes = gen_idxes()"
   ]
  },
  {
   "cell_type": "code",
   "execution_count": null,
   "metadata": {},
   "outputs": [],
   "source": [
    "for idxs in idxes:\n",
    "    print('_'.join(map(str, idxs)), end=' ')"
   ]
  },
  {
   "cell_type": "code",
   "execution_count": null,
   "metadata": {},
   "outputs": [],
   "source": []
  }
 ],
 "metadata": {
  "kernelspec": {
   "display_name": "all3-intel",
   "language": "python",
   "name": "all3-intel"
  },
  "language_info": {
   "codemirror_mode": {
    "name": "ipython",
    "version": 3
   },
   "file_extension": ".py",
   "mimetype": "text/x-python",
   "name": "python",
   "nbconvert_exporter": "python",
   "pygments_lexer": "ipython3",
   "version": "3.6.8"
  }
 },
 "nbformat": 4,
 "nbformat_minor": 2
}
