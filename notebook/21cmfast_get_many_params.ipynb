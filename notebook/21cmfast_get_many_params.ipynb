{
 "cells": [
  {
   "cell_type": "code",
   "execution_count": null,
   "metadata": {},
   "outputs": [],
   "source": [
    "from functools import partial\n",
    "from pathlib import Path"
   ]
  },
  {
   "cell_type": "code",
   "execution_count": null,
   "metadata": {},
   "outputs": [],
   "source": [
    "import pandas as pd\n",
    "import numpy as np"
   ]
  },
  {
   "cell_type": "code",
   "execution_count": null,
   "metadata": {},
   "outputs": [],
   "source": [
    "import plotly.offline as py\n",
    "py.init_notebook_mode()"
   ]
  },
  {
   "cell_type": "code",
   "execution_count": null,
   "metadata": {},
   "outputs": [],
   "source": [
    "import holoviews as hv\n",
    "hv.extension('plotly')"
   ]
  },
  {
   "cell_type": "code",
   "execution_count": null,
   "metadata": {},
   "outputs": [],
   "source": [
    "import matplotlib.pyplot as plt"
   ]
  },
  {
   "cell_type": "code",
   "execution_count": null,
   "metadata": {},
   "outputs": [],
   "source": [
    "%matplotlib inline"
   ]
  },
  {
   "cell_type": "code",
   "execution_count": null,
   "metadata": {},
   "outputs": [],
   "source": [
    "# first value is default\n",
    "# rest are alternative value for each realization\n",
    "PARAMS = {\n",
    "    'STELLAR_BARYON_FRAC': (0.05, 0.001, 1.),\n",
    "    'STELLAR_BARYON_PL': (0.5, -0.5, 1.),\n",
    "    'ESC_FRAC': (0.01, 0.001, 1.),\n",
    "    'ESC_PL': (-0.5, -1., 0.5),\n",
    "    'M_TURNOVER': (5e8, 1e8, 1e10),\n",
    "    't_STAR': (0.5, 0., 1.),\n",
    "    'L_X': (40.5, 38., 42.)\n",
    "}"
   ]
  },
  {
   "cell_type": "code",
   "execution_count": null,
   "metadata": {},
   "outputs": [],
   "source": [
    "from dautil.plot import iplot_column_slider, plot_column_slider"
   ]
  },
  {
   "cell_type": "code",
   "execution_count": null,
   "metadata": {},
   "outputs": [],
   "source": [
    "def read_global_evolution(path):\n",
    "    df = pd.read_csv(path, delim_whitespace=True, header=None, names=('zp', 'filling_factor_of_HI_zp', 'Tk_ave', 'x_e_ave', 'Ts_ave', 'T_cmb*(1+zp)', 'J_alpha_ave', 'xalpha_ave', 'Xheat_ave', 'Xion_ave'))\n",
    "    df.set_index('zp', inplace=True)\n",
    "    return df"
   ]
  },
  {
   "cell_type": "code",
   "execution_count": null,
   "metadata": {},
   "outputs": [],
   "source": [
    "def parse_case(string):\n",
    "    for level, idx in enumerate(map(int, string.split('_'))):\n",
    "        if idx != 0:\n",
    "            break\n",
    "    if idx == 0:\n",
    "        return 'default'\n",
    "    else:\n",
    "        param = list(PARAMS)[level]\n",
    "        return '{}={:.6}'.format(param, PARAMS[param][idx])"
   ]
  },
  {
   "cell_type": "code",
   "execution_count": null,
   "metadata": {},
   "outputs": [],
   "source": [
    "basedir = Path('~/21cmfast/21cmFAST/Parameter_spaces').expanduser()"
   ]
  },
  {
   "cell_type": "code",
   "execution_count": null,
   "metadata": {},
   "outputs": [],
   "source": [
    "df_path = pd.DataFrame((basedir.glob('**/global*')), columns=['path'])"
   ]
  },
  {
   "cell_type": "code",
   "execution_count": null,
   "metadata": {},
   "outputs": [],
   "source": [
    "df_path['case'] = df_path.path.map(lambda path: path.parent.parent.parent.name)"
   ]
  },
  {
   "cell_type": "code",
   "execution_count": null,
   "metadata": {},
   "outputs": [],
   "source": [
    "df_path['name'] = df_path.case.map(parse_case)"
   ]
  },
  {
   "cell_type": "code",
   "execution_count": null,
   "metadata": {},
   "outputs": [],
   "source": [
    "# filter out bad cases\n",
    "df_path = df_path[~df_path.case.isin(('0_0_0_0_0_1_0',))]"
   ]
  },
  {
   "cell_type": "code",
   "execution_count": null,
   "metadata": {},
   "outputs": [],
   "source": [
    "df_path"
   ]
  },
  {
   "cell_type": "code",
   "execution_count": null,
   "metadata": {},
   "outputs": [],
   "source": [
    "df = pd.concat(\n",
    "    (read_global_evolution(path).x_e_ave for path in df_path.path),\n",
    "    axis=1,\n",
    "#     keys=df_path.name\n",
    "    keys=df_path.case\n",
    ")"
   ]
  },
  {
   "cell_type": "code",
   "execution_count": null,
   "metadata": {},
   "outputs": [],
   "source": [
    "df.sort_index(inplace=True)"
   ]
  },
  {
   "cell_type": "code",
   "execution_count": null,
   "metadata": {},
   "outputs": [],
   "source": [
    "df.to_hdf(\n",
    "    '21cmfast-x_e_ave.hdf5',\n",
    "    'df',\n",
    "    format='table',\n",
    "    complevel=9,\n",
    "    fletcher32=True\n",
    ")"
   ]
  },
  {
   "cell_type": "raw",
   "metadata": {},
   "source": [
    "df = pd.read_hdf('21cmfast-x_e_ave.hdf5')"
   ]
  },
  {
   "cell_type": "code",
   "execution_count": null,
   "metadata": {},
   "outputs": [],
   "source": [
    "py.iplot(iplot_column_slider(df))"
   ]
  },
  {
   "cell_type": "code",
   "execution_count": null,
   "metadata": {},
   "outputs": [],
   "source": [
    "py.plot(iplot_column_slider(df), filename='x_e.html')"
   ]
  },
  {
   "cell_type": "code",
   "execution_count": null,
   "metadata": {},
   "outputs": [],
   "source": [
    "df.head()"
   ]
  },
  {
   "cell_type": "markdown",
   "metadata": {},
   "source": [
    "would be z values when x_e crosses 1 if interpolated linearly"
   ]
  },
  {
   "cell_type": "code",
   "execution_count": null,
   "metadata": {},
   "outputs": [],
   "source": [
    "x_0 = df.index[0]\n",
    "dx = df.index[1] - x_0\n",
    "y_0 = df.iloc[0]\n",
    "dy = df.iloc[1] - y_0\n",
    "(1. - y_0) * dx / dy + x_0"
   ]
  },
  {
   "cell_type": "markdown",
   "metadata": {},
   "source": [
    "# Generate class .ini files"
   ]
  },
  {
   "cell_type": "code",
   "execution_count": null,
   "metadata": {},
   "outputs": [],
   "source": [
    "INI = '''H0 = 67.32117\n",
    "omega_b = 0.02238280\n",
    "N_ur = 2.03066666667\n",
    "omega_cdm = 0.1201075\n",
    "N_ncdm = 1\n",
    "omega_ncdm = 0.0006451439\n",
    "YHe = 0.2454006\n",
    "tau_reio = 0.05430842\n",
    "n_s = 0.9660499\n",
    "A_s = 2.100549e-09\n",
    "non linear = halofit\n",
    "output = tCl,pCl,lCl,mPk\n",
    "lensing = yes\n",
    "root = output/{case}-\n",
    "write warnings = yes\n",
    "write parameters = yes\n",
    "input_verbose = 1\n",
    "background_verbose = 1\n",
    "thermodynamics_verbose = 1\n",
    "perturbations_verbose = 1\n",
    "transfer_verbose = 1\n",
    "primordial_verbose = 1\n",
    "spectra_verbose = 1\n",
    "nonlinear_verbose = 1\n",
    "lensing_verbose = 1\n",
    "output_verbose = 1\n",
    "format = camb\n",
    "reio_parametrization = reio_inter\n",
    "reio_inter_num = {reio_inter_num}\n",
    "reio_inter_z = {reio_inter_z}\n",
    "reio_inter_xe = {reio_inter_xe}\n",
    "write thermodynamics = yes\n",
    "'''"
   ]
  },
  {
   "cell_type": "markdown",
   "metadata": {},
   "source": [
    "# Binned"
   ]
  },
  {
   "cell_type": "code",
   "execution_count": null,
   "metadata": {},
   "outputs": [],
   "source": [
    "def binning(array, binwidth=4):\n",
    "    n, m = array.shape\n",
    "    n_trunc = (n // binwidth) * binwidth\n",
    "    if n_trunc != n:\n",
    "        print(f'array truncated from {n} to {n_trunc}.')\n",
    "        array = array[:n_trunc]\n",
    "    return array.T.reshape(m, -1, binwidth).mean(axis=-1)"
   ]
  },
  {
   "cell_type": "code",
   "execution_count": null,
   "metadata": {},
   "outputs": [],
   "source": [
    "def format_float_array_trunc(array):\n",
    "    string = ','.join(f'{i:.15}' for i in array)\n",
    "    print(len(string))\n",
    "    return string"
   ]
  },
  {
   "cell_type": "code",
   "execution_count": null,
   "metadata": {},
   "outputs": [],
   "source": [
    "def format_float_array_st(array):\n",
    "    string = ','.join(f'{i:.16E}' for i in array)\n",
    "    print(len(string))\n",
    "    return string"
   ]
  },
  {
   "cell_type": "code",
   "execution_count": null,
   "metadata": {},
   "outputs": [],
   "source": [
    "def format_float_array(array):\n",
    "    string = ','.join(map(str, array))\n",
    "    print(len(string))\n",
    "    return string"
   ]
  },
  {
   "cell_type": "raw",
   "metadata": {},
   "source": [
    "zp, x_e = binning(df_temp[['zp', 'default']].values, binwidth=10)"
   ]
  },
  {
   "cell_type": "raw",
   "metadata": {},
   "source": [
    "zp.shape[0]"
   ]
  },
  {
   "cell_type": "raw",
   "metadata": {},
   "source": [
    "print(format_float_array(zp))"
   ]
  },
  {
   "cell_type": "raw",
   "metadata": {},
   "source": [
    "print(format_float_array(x_e))"
   ]
  },
  {
   "cell_type": "raw",
   "metadata": {},
   "source": [
    "hv.Curve(np.column_stack((zp, x_e)))"
   ]
  },
  {
   "cell_type": "markdown",
   "metadata": {},
   "source": [
    "# Unbinned"
   ]
  },
  {
   "cell_type": "code",
   "execution_count": null,
   "metadata": {},
   "outputs": [],
   "source": [
    "# setting boundary values according to documentation on reio_inter\n",
    "df.loc[0.] = -2.\n",
    "df.loc[6.] = -1.\n",
    "df.loc[30.] = 0."
   ]
  },
  {
   "cell_type": "code",
   "execution_count": null,
   "metadata": {},
   "outputs": [],
   "source": [
    "df.sort_index(inplace=True)"
   ]
  },
  {
   "cell_type": "code",
   "execution_count": null,
   "metadata": {},
   "outputs": [],
   "source": [
    "df.head()"
   ]
  },
  {
   "cell_type": "code",
   "execution_count": null,
   "metadata": {},
   "outputs": [],
   "source": []
  },
  {
   "cell_type": "code",
   "execution_count": null,
   "metadata": {},
   "outputs": [],
   "source": [
    "for name, series in df.items():\n",
    "    break"
   ]
  },
  {
   "cell_type": "code",
   "execution_count": null,
   "metadata": {},
   "outputs": [],
   "source": [
    "series.head()"
   ]
  },
  {
   "cell_type": "code",
   "execution_count": null,
   "metadata": {},
   "outputs": [],
   "source": [
    "for name, series in df.items():\n",
    "    assert len(format_float_array_trunc(series.values)) < 1024"
   ]
  },
  {
   "cell_type": "code",
   "execution_count": null,
   "metadata": {},
   "outputs": [],
   "source": [
    "outbasedir= Path('~/21cmfast/21cmFAST/Parameter_spaces').expanduser()"
   ]
  },
  {
   "cell_type": "code",
   "execution_count": null,
   "metadata": {},
   "outputs": [],
   "source": [
    "outbasedir"
   ]
  },
  {
   "cell_type": "code",
   "execution_count": null,
   "metadata": {},
   "outputs": [],
   "source": [
    "reio_inter_num = df.shape[0]\n",
    "reio_inter_z = format_float_array(df.index.values)\n",
    "for case, series in df.items():\n",
    "    reio_inter_xe = format_float_array_trunc(series.values)\n",
    "    with open(outbasedir / f'{case}.ini', 'w') as f:\n",
    "        print(INI.format(case=case, reio_inter_num=reio_inter_num, reio_inter_z=reio_inter_z, reio_inter_xe=reio_inter_xe), file=f)"
   ]
  },
  {
   "cell_type": "code",
   "execution_count": null,
   "metadata": {},
   "outputs": [],
   "source": [
    "for case in df:\n",
    "    (outbasedir / f'{case}.ini').unlink()"
   ]
  }
 ],
 "metadata": {
  "kernelspec": {
   "display_name": "all3-intel",
   "language": "python",
   "name": "all3-intel"
  },
  "language_info": {
   "codemirror_mode": {
    "name": "ipython",
    "version": 3
   },
   "file_extension": ".py",
   "mimetype": "text/x-python",
   "name": "python",
   "nbconvert_exporter": "python",
   "pygments_lexer": "ipython3",
   "version": "3.6.8"
  }
 },
 "nbformat": 4,
 "nbformat_minor": 2
}
