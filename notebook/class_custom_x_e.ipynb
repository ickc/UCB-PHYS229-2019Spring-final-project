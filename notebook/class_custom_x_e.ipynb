{
 "cells": [
  {
   "cell_type": "markdown",
   "metadata": {},
   "source": [
    "# Summary\n",
    "\n",
    "Inconsistency between class' internal $X_e$ and the one form 21cmFAST"
   ]
  },
  {
   "cell_type": "code",
   "execution_count": null,
   "metadata": {},
   "outputs": [],
   "source": [
    "from classy import Class"
   ]
  },
  {
   "cell_type": "code",
   "execution_count": null,
   "metadata": {},
   "outputs": [],
   "source": [
    "import os\n",
    "import io"
   ]
  },
  {
   "cell_type": "code",
   "execution_count": null,
   "metadata": {},
   "outputs": [],
   "source": [
    "import pandas as pd\n",
    "import numpy as np"
   ]
  },
  {
   "cell_type": "code",
   "execution_count": null,
   "metadata": {},
   "outputs": [],
   "source": [
    "import matplotlib.pyplot as plt"
   ]
  },
  {
   "cell_type": "code",
   "execution_count": null,
   "metadata": {},
   "outputs": [],
   "source": [
    "%matplotlib inline"
   ]
  },
  {
   "cell_type": "code",
   "execution_count": null,
   "metadata": {},
   "outputs": [],
   "source": [
    "import plotly.offline as py\n",
    "py.init_notebook_mode()"
   ]
  },
  {
   "cell_type": "code",
   "execution_count": null,
   "metadata": {},
   "outputs": [],
   "source": [
    "from dautil.plot import iplot_column_slider"
   ]
  },
  {
   "cell_type": "code",
   "execution_count": null,
   "metadata": {},
   "outputs": [],
   "source": [
    "def read_txt(path):\n",
    "    with open(path, 'r') as f:\n",
    "        # remove beginning `#`\n",
    "        text = f.read()[1:]\n",
    "    with io.StringIO(text) as f:\n",
    "        # input has 6 sig. fig. which fits in float32\n",
    "        return pd.read_csv(f, delim_whitespace=True, index_col=0, dtype=np.float32)"
   ]
  },
  {
   "cell_type": "code",
   "execution_count": null,
   "metadata": {},
   "outputs": [],
   "source": [
    "def parse_class_comment(comment):\n",
    "    '''parse class' comment line and return a header list\n",
    "\n",
    "    class' comment line example:\n",
    "      1:z  2:conf. time 3:...\n",
    "    '''\n",
    "    # remove beginning '#'\n",
    "    comment = comment[1:]\n",
    "    # remove whitespace at boundary\n",
    "    comemnt = comment.strip()\n",
    "    # split on :\n",
    "    comment_list = comment.split(':')\n",
    "    # throw away first, which is ' 1'\n",
    "    comment_list = comment_list[1:]\n",
    "\n",
    "    n = len(comment_list)\n",
    "    # last doesn't has a number\n",
    "    for i in range(n - 1):\n",
    "        # remove last number after white space\n",
    "        comment_list[i] = ' '.join(comment_list[i].split()[:-1])\n",
    "    return comment_list"
   ]
  },
  {
   "cell_type": "code",
   "execution_count": null,
   "metadata": {},
   "outputs": [],
   "source": [
    "def read_class_txt(path, camb=False):\n",
    "    # read once\n",
    "    with open(path, 'r') as f:\n",
    "        text = f.read()\n",
    "\n",
    "    # get last comment line\n",
    "    comment = None\n",
    "    for line in text.split('\\n'):\n",
    "        if line.startswith('#'):\n",
    "            comment = line\n",
    "\n",
    "    names = parse_class_comment(comment)\n",
    "\n",
    "    with io.StringIO(text) as f:\n",
    "        df = pd.read_csv(f, delim_whitespace=True, index_col=0, comment='#', header=None, names=names)\n",
    "        return df if camb else df * 1.e12"
   ]
  },
  {
   "cell_type": "code",
   "execution_count": null,
   "metadata": {},
   "outputs": [],
   "source": [
    "def plot_compare(df1, df2, keys, log=False, relative=False):\n",
    "    '''plot to compare columns from `df1` and `df2`,\n",
    "    using columns from `df1`.\n",
    "\n",
    "    `keys`: tuple of str of names of `df1` and `df2`.\n",
    "    `relative`: if True, plot the relative error w.r.t. `df1` instead.\n",
    "    '''\n",
    "    for col in df1.columns:\n",
    "#         pd.merge(df1[col], df2[col], left_index=True, right_index=True).plot()\n",
    "        df_temp = pd.concat((df1[col], df2[col]), axis=1, join='inner', keys=(' '.join((key, col)) for key in keys))\n",
    "        if relative:\n",
    "            temp = df_temp.values\n",
    "            if log:\n",
    "                plt.loglog(df_temp.index, np.abs((temp[:, 0] - temp[:, 1]) / temp[:, 0]), label=col)\n",
    "            else:\n",
    "                plt.plot(df_temp.index, np.abs((temp[:, 0] - temp[:, 1]) / temp[:, 0]), label=col)\n",
    "            plt.legend()\n",
    "            plt.show()\n",
    "        else:\n",
    "            if log:\n",
    "                df_temp.plot(logx=True, logy=True)\n",
    "            else:\n",
    "                df_temp.plot()"
   ]
  },
  {
   "cell_type": "code",
   "execution_count": null,
   "metadata": {},
   "outputs": [],
   "source": [
    "!tail /home/kolen/git/fork/class/base_2018_plikHM_TTTEEE_lowl_lowE_lensing_custom_x_e.ini"
   ]
  },
  {
   "cell_type": "code",
   "execution_count": null,
   "metadata": {},
   "outputs": [],
   "source": [
    "!ls ~/git/fork/class/output/"
   ]
  },
  {
   "cell_type": "code",
   "execution_count": null,
   "metadata": {},
   "outputs": [],
   "source": [
    "df = read_class_txt(os.path.expanduser('~/git/fork/class/output/base_2018_plikHM_TTTEEE_lowl_lowE_lensing_camb_cl_lensed.dat'), camb=True)"
   ]
  },
  {
   "cell_type": "code",
   "execution_count": null,
   "metadata": {},
   "outputs": [],
   "source": [
    "df2 = read_class_txt(os.path.expanduser('~/git/fork/class/output/base_2018_plikHM_TTTEEE_lowl_lowE_lensing_camb_custom_x_e_cl_lensed.dat'), camb=True)"
   ]
  },
  {
   "cell_type": "code",
   "execution_count": null,
   "metadata": {},
   "outputs": [],
   "source": [
    "plot_compare(df, df2, ('default', 'custom X_e'), relative=False)"
   ]
  },
  {
   "cell_type": "markdown",
   "metadata": {},
   "source": [
    "# Thermo"
   ]
  },
  {
   "cell_type": "code",
   "execution_count": null,
   "metadata": {},
   "outputs": [],
   "source": [
    "path = '~/git/fork/class/output/base_2018_plikHM_TTTEEE_lowl_lowE_lensing_camb_custom_x_e_thermodynamics.dat'"
   ]
  },
  {
   "cell_type": "code",
   "execution_count": null,
   "metadata": {},
   "outputs": [],
   "source": [
    "!head -n 15 $path"
   ]
  },
  {
   "cell_type": "code",
   "execution_count": null,
   "metadata": {},
   "outputs": [],
   "source": [
    "df_thermo = read_class_txt(os.path.expanduser(path), camb=True)"
   ]
  },
  {
   "cell_type": "code",
   "execution_count": null,
   "metadata": {},
   "outputs": [],
   "source": [
    "df_thermo_z_restricted = df_thermo.loc[(7 < df_thermo.index) & (df_thermo.index < 30)]"
   ]
  },
  {
   "cell_type": "code",
   "execution_count": null,
   "metadata": {},
   "outputs": [],
   "source": [
    "py.iplot(iplot_column_slider(df_thermo_z_restricted))"
   ]
  },
  {
   "cell_type": "code",
   "execution_count": null,
   "metadata": {},
   "outputs": [],
   "source": []
  }
 ],
 "metadata": {
  "kernelspec": {
   "display_name": "all3-intel",
   "language": "python",
   "name": "all3-intel"
  },
  "language_info": {
   "codemirror_mode": {
    "name": "ipython",
    "version": 3
   },
   "file_extension": ".py",
   "mimetype": "text/x-python",
   "name": "python",
   "nbconvert_exporter": "python",
   "pygments_lexer": "ipython3",
   "version": "3.6.5"
  }
 },
 "nbformat": 4,
 "nbformat_minor": 2
}
