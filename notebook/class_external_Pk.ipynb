{
 "cells": [
  {
   "cell_type": "markdown",
   "metadata": {},
   "source": [
    "# Summary\n",
    "\n",
    "demostrating how to use external P(k) from class."
   ]
  },
  {
   "cell_type": "code",
   "execution_count": null,
   "metadata": {},
   "outputs": [],
   "source": [
    "from classy import Class"
   ]
  },
  {
   "cell_type": "code",
   "execution_count": null,
   "metadata": {},
   "outputs": [],
   "source": [
    "import os\n",
    "import io"
   ]
  },
  {
   "cell_type": "code",
   "execution_count": null,
   "metadata": {},
   "outputs": [],
   "source": [
    "import pandas as pd\n",
    "import numpy as np"
   ]
  },
  {
   "cell_type": "code",
   "execution_count": null,
   "metadata": {},
   "outputs": [],
   "source": [
    "import matplotlib.pyplot as plt"
   ]
  },
  {
   "cell_type": "code",
   "execution_count": null,
   "metadata": {},
   "outputs": [],
   "source": [
    "%matplotlib inline"
   ]
  },
  {
   "cell_type": "code",
   "execution_count": null,
   "metadata": {},
   "outputs": [],
   "source": [
    "def read_txt(path):\n",
    "    with open(path, 'r') as f:\n",
    "        # remove beginning `#`\n",
    "        text = f.read()[1:]\n",
    "    with io.StringIO(text) as f:\n",
    "        # input has 6 sig. fig. which fits in float32\n",
    "        return pd.read_csv(f, delim_whitespace=True, index_col=0, dtype=np.float32)"
   ]
  },
  {
   "cell_type": "code",
   "execution_count": null,
   "metadata": {},
   "outputs": [],
   "source": [
    "def read_class_txt(path, camb=False):\n",
    "    # read once\n",
    "    with open(path, 'r') as f:\n",
    "        text = f.read()\n",
    "\n",
    "    # get last comment line\n",
    "    comment = None\n",
    "    for line in text.split('\\n'):\n",
    "        if line.startswith('#'):\n",
    "            comment = line\n",
    "    # remove beginning '#'\n",
    "    comment = comment[1:]\n",
    "    # parse comment line: get name after ':'\n",
    "    names = [name.split(':')[1] for name in comment.strip().split()]\n",
    "\n",
    "    with io.StringIO(text) as f:\n",
    "        df = pd.read_csv(f, delim_whitespace=True, index_col=0, comment='#', header=None, names=names)\n",
    "        return df if camb else df * 1.e12"
   ]
  },
  {
   "cell_type": "code",
   "execution_count": null,
   "metadata": {},
   "outputs": [],
   "source": [
    "def plot_compare(df1, df2, keys, log=False, relative=False):\n",
    "    '''plot to compare columns from `df1` and `df2`,\n",
    "    using columns from `df1`.\n",
    "\n",
    "    `keys`: tuple of str of names of `df1` and `df2`.\n",
    "    `relative`: if True, plot the relative error w.r.t. `df1` instead.\n",
    "    '''\n",
    "    for col in df1.columns:\n",
    "#         pd.merge(df1[col], df2[col], left_index=True, right_index=True).plot()\n",
    "        df_temp = pd.concat((df1[col], df2[col]), axis=1, join='inner', keys=(' '.join((key, col)) for key in keys))\n",
    "        if relative:\n",
    "            temp = df_temp.values\n",
    "            if log:\n",
    "                plt.loglog(df_temp.index, np.abs((temp[:, 0] - temp[:, 1]) / temp[:, 0]), label=col)\n",
    "            else:\n",
    "                plt.plot(df_temp.index, np.abs((temp[:, 0] - temp[:, 1]) / temp[:, 0]), label=col)\n",
    "            plt.legend()\n",
    "            plt.show()\n",
    "        else:\n",
    "            if log:\n",
    "                df_temp.plot(logx=True, logy=True)\n",
    "            else:\n",
    "                df_temp.plot()"
   ]
  },
  {
   "cell_type": "code",
   "execution_count": null,
   "metadata": {},
   "outputs": [],
   "source": [
    "!tail -n 15 ~/git/fork/class/base_2018_plikHM_TTTEEE_lowl_lowE_lensing_custom_external.ini"
   ]
  },
  {
   "cell_type": "code",
   "execution_count": null,
   "metadata": {},
   "outputs": [],
   "source": [
    "df = read_class_txt(os.path.expanduser('~/git/fork/class/output/base_2018_plikHM_TTTEEE_lowl_lowE_lensing_camb_cl_lensed.dat'), camb=True)"
   ]
  },
  {
   "cell_type": "code",
   "execution_count": null,
   "metadata": {},
   "outputs": [],
   "source": [
    "df2 = read_class_txt(os.path.expanduser('~/git/fork/class/output/base_2018_plikHM_TTTEEE_lowl_lowE_lensing_camb_external_cl_lensed.dat'), camb=True)"
   ]
  },
  {
   "cell_type": "code",
   "execution_count": null,
   "metadata": {},
   "outputs": [],
   "source": [
    "plot_compare(df, df2, ('direct', 'external'), relative=False)"
   ]
  },
  {
   "cell_type": "code",
   "execution_count": null,
   "metadata": {},
   "outputs": [],
   "source": []
  }
 ],
 "metadata": {
  "kernelspec": {
   "display_name": "all3-intel",
   "language": "python",
   "name": "all3-intel"
  },
  "language_info": {
   "codemirror_mode": {
    "name": "ipython",
    "version": 3
   },
   "file_extension": ".py",
   "mimetype": "text/x-python",
   "name": "python",
   "nbconvert_exporter": "python",
   "pygments_lexer": "ipython3",
   "version": "3.6.5"
  }
 },
 "nbformat": 4,
 "nbformat_minor": 2
}
