{
 "cells": [
  {
   "cell_type": "markdown",
   "metadata": {},
   "source": [
    "# Summary\n",
    "\n",
    "When providing the same input parameters and units, class and classy has the same outputs."
   ]
  },
  {
   "cell_type": "code",
   "execution_count": null,
   "metadata": {},
   "outputs": [],
   "source": [
    "from classy import Class"
   ]
  },
  {
   "cell_type": "code",
   "execution_count": null,
   "metadata": {},
   "outputs": [],
   "source": [
    "import os\n",
    "import io"
   ]
  },
  {
   "cell_type": "code",
   "execution_count": null,
   "metadata": {},
   "outputs": [],
   "source": [
    "import pandas as pd\n",
    "import numpy as np"
   ]
  },
  {
   "cell_type": "code",
   "execution_count": null,
   "metadata": {},
   "outputs": [],
   "source": [
    "import matplotlib.pyplot as plt"
   ]
  },
  {
   "cell_type": "code",
   "execution_count": null,
   "metadata": {},
   "outputs": [],
   "source": [
    "%matplotlib inline"
   ]
  },
  {
   "cell_type": "code",
   "execution_count": null,
   "metadata": {},
   "outputs": [],
   "source": [
    "def read_txt(path):\n",
    "    with open(path, 'r') as f:\n",
    "        # remove beginning `#`\n",
    "        text = f.read()[1:]\n",
    "    with io.StringIO(text) as f:\n",
    "        # input has 6 sig. fig. which fits in float32\n",
    "        return pd.read_csv(f, delim_whitespace=True, index_col=0, dtype=np.float32)"
   ]
  },
  {
   "cell_type": "code",
   "execution_count": null,
   "metadata": {},
   "outputs": [],
   "source": [
    "def read_class_txt(path, camb=False):\n",
    "    # read once\n",
    "    with open(path, 'r') as f:\n",
    "        text = f.read()\n",
    "\n",
    "    # get last comment line\n",
    "    comment = None\n",
    "    for line in text.split('\\n'):\n",
    "        if line.startswith('#'):\n",
    "            comment = line\n",
    "    # remove beginning '#'\n",
    "    comment = comment[1:]\n",
    "    # parse comment line: get name after ':'\n",
    "    names = [name.split(':')[1] for name in comment.strip().split()]\n",
    "\n",
    "    with io.StringIO(text) as f:\n",
    "        df = pd.read_csv(f, delim_whitespace=True, index_col=0, comment='#', header=None, names=names)\n",
    "        return df if camb else df * 1.e12"
   ]
  },
  {
   "cell_type": "code",
   "execution_count": null,
   "metadata": {},
   "outputs": [],
   "source": [
    "def plot_compare(df1, df2, keys, log=False, relative=False):\n",
    "    '''plot to compare columns from `df1` and `df2`,\n",
    "    using columns from `df1`.\n",
    "\n",
    "    `keys`: tuple of str of names of `df1` and `df2`.\n",
    "    `relative`: if True, plot the relative error w.r.t. `df1` instead.\n",
    "    '''\n",
    "    for col in df1.columns:\n",
    "#         pd.merge(df1[col], df2[col], left_index=True, right_index=True).plot()\n",
    "        df_temp = pd.concat((df1[col], df2[col]), axis=1, join='inner', keys=(' '.join((key, col)) for key in keys))\n",
    "        if relative:\n",
    "            temp = df_temp.values\n",
    "            if log:\n",
    "                plt.loglog(df_temp.index, np.abs((temp[:, 0] - temp[:, 1]) / temp[:, 0]), label=col)\n",
    "            else:\n",
    "                plt.plot(df_temp.index, np.abs((temp[:, 0] - temp[:, 1]) / temp[:, 0]), label=col)\n",
    "            plt.legend()\n",
    "            plt.show()\n",
    "        else:\n",
    "            if log:\n",
    "                df_temp.plot(logx=True, logy=True)\n",
    "            else:\n",
    "                df_temp.plot()"
   ]
  },
  {
   "cell_type": "markdown",
   "metadata": {},
   "source": [
    "# Class result from command line"
   ]
  },
  {
   "cell_type": "code",
   "execution_count": null,
   "metadata": {},
   "outputs": [],
   "source": [
    "path = os.path.expanduser('~/git/fork/class/output/base_2018_plikHM_TTTEEE_lowl_lowE_lensing_cl_lensed.dat')"
   ]
  },
  {
   "cell_type": "raw",
   "metadata": {},
   "source": [
    "path = os.path.expanduser('~/git/fork/class/output/explanatory00_cl_lensed.dat')"
   ]
  },
  {
   "cell_type": "code",
   "execution_count": null,
   "metadata": {},
   "outputs": [],
   "source": [
    "!head -n 20 $path"
   ]
  },
  {
   "cell_type": "code",
   "execution_count": null,
   "metadata": {},
   "outputs": [],
   "source": [
    "df_class = read_class_txt(path, camb=True)\n",
    "df_class.head()"
   ]
  },
  {
   "cell_type": "markdown",
   "metadata": {},
   "source": [
    "# Class"
   ]
  },
  {
   "cell_type": "code",
   "execution_count": null,
   "metadata": {},
   "outputs": [],
   "source": [
    "LambdaCDM = Class()"
   ]
  },
  {
   "cell_type": "code",
   "execution_count": null,
   "metadata": {
    "editable": true
   },
   "outputs": [],
   "source": [
    "# optional: clear content of LambdaCDM (to reuse it for another model)\n",
    "LambdaCDM.struct_cleanup()\n",
    "# optional: reset parameters to default\n",
    "LambdaCDM.empty()"
   ]
  },
  {
   "cell_type": "code",
   "execution_count": null,
   "metadata": {},
   "outputs": [],
   "source": [
    "kwargs = {\n",
    "    # background parameters\n",
    "    'H0': 67.32117,\n",
    "    'omega_b': 0.02238280,\n",
    "    'N_ur': 2.03066666667,\n",
    "    'omega_cdm': 0.1201075,\n",
    "    'N_ncdm': 1,\n",
    "    'omega_ncdm': 0.0006451439,\n",
    "\n",
    "    'YHe': 0.2454006,\n",
    "    'tau_reio': 0.05430842,\n",
    "\n",
    "    'n_s': 0.9660499,\n",
    "    'A_s': 2.100549e-09,\n",
    "\n",
    "    'non linear': 'halofit',\n",
    "\n",
    "    'output': 'tCl,pCl,lCl,mPk',\n",
    "    'lensing': 'yes',\n",
    "#     'P_k_max_1/Mpc': 3.,\n",
    "#     'l_max_scalars': 3000,\n",
    "}\n",
    "LambdaCDM.set(kwargs)"
   ]
  },
  {
   "cell_type": "code",
   "execution_count": null,
   "metadata": {},
   "outputs": [],
   "source": [
    "LambdaCDM.compute()"
   ]
  },
  {
   "cell_type": "code",
   "execution_count": null,
   "metadata": {},
   "outputs": [],
   "source": [
    "df = pd.DataFrame(LambdaCDM.lensed_cl())\n",
    "df.set_index('ell', inplace=True)\n",
    "ell = df.index.values.astype(np.int32)\n",
    "df *= ((ell * (ell + 1)) * 0.5 / np.pi)[:, None]\n",
    "df.columns = ['TT', 'EE', 'TE', 'BB', 'phiphi', 'TPhi']\n",
    "# df *= 1.e12"
   ]
  },
  {
   "cell_type": "code",
   "execution_count": null,
   "metadata": {},
   "outputs": [],
   "source": [
    "df.head()"
   ]
  },
  {
   "cell_type": "code",
   "execution_count": null,
   "metadata": {},
   "outputs": [],
   "source": [
    "plot_compare(df, df_class, ('classy', 'class'), relative=True)"
   ]
  }
 ],
 "metadata": {
  "kernelspec": {
   "display_name": "all3-intel",
   "language": "python",
   "name": "all3-intel"
  },
  "language_info": {
   "codemirror_mode": {
    "name": "ipython",
    "version": 3
   },
   "file_extension": ".py",
   "mimetype": "text/x-python",
   "name": "python",
   "nbconvert_exporter": "python",
   "pygments_lexer": "ipython3",
   "version": "3.6.5"
  }
 },
 "nbformat": 4,
 "nbformat_minor": 2
}
